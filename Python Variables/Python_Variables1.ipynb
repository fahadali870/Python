{
 "cells": [
  {
   "cell_type": "code",
   "execution_count": null,
   "id": "9adabad8-9f22-4e59-a94f-d148d05b9aa3",
   "metadata": {},
   "outputs": [],
   "source": [
    "break = 5\n",
    "print(break)\n",
    "\n",
    "reason of errors is reserved words"
   ]
  },
  {
   "cell_type": "code",
   "execution_count": null,
   "id": "d1af908a-f214-47fd-b218-ac8a8b400637",
   "metadata": {},
   "outputs": [],
   "source": [
    "birth_year = 1999\n",
    "current_year = 2025\n",
    "\n",
    "age = current_year - birth_year\n",
    "print(\"Your age is:\", age)\n"
   ]
  },
  {
   "cell_type": "code",
   "execution_count": null,
   "id": "4ffc64de-d98e-4325-96f7-24b65e27eb2d",
   "metadata": {},
   "outputs": [],
   "source": [
    "first_name = \"Fahad\"\n",
    "middle_name = \"Ali\"\n",
    "last_name = \"Khan\"\n",
    "\n",
    "full_name = first_name + \" \" + middle_name + \" \" + last_name\n",
    "print(\"Full Name:\", full_name)\n"
   ]
  },
  {
   "cell_type": "code",
   "execution_count": null,
   "id": "49376395-d935-45e8-8e8e-ec3735599248",
   "metadata": {},
   "outputs": [],
   "source": []
  }
 ],
 "metadata": {
  "kernelspec": {
   "display_name": "Python 3 (ipykernel)",
   "language": "python",
   "name": "python3"
  },
  "language_info": {
   "codemirror_mode": {
    "name": "ipython",
    "version": 3
   },
   "file_extension": ".py",
   "mimetype": "text/x-python",
   "name": "python",
   "nbconvert_exporter": "python",
   "pygments_lexer": "ipython3",
   "version": "3.11.7"
  }
 },
 "nbformat": 4,
 "nbformat_minor": 5
}
