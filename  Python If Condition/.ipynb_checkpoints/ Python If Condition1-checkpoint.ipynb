{
 "cells": [
  {
   "cell_type": "code",
   "execution_count": null,
   "id": "bf5111f5-9b4d-40a1-9ecb-5861d3004a1c",
   "metadata": {},
   "outputs": [],
   "source": [
    "india = [\"mumbai\", \"banglore\", \"chennai\", \"delhi\"]\n",
    "pakistan = [\"lahore\", \"karachi\", \"islamabad\"]\n",
    "bangladesh = [\"dhaka\", \"khulna\", \"rangpur\"]\n",
    "\n",
    "city = input(\"Enter the city name: \").lower()  \n",
    "\n",
    "if city in india:\n",
    "    print(f\"{city.capitalize()} belongs to India.\")\n",
    "elif city in pakistan:\n",
    "    print(f\"{city.capitalize()} belongs to Pakistan.\")\n",
    "elif city in bangladesh:\n",
    "    print(f\"{city.capitalize()} belongs to Bangladesh.\")\n",
    "else:\n",
    "    print(\"City not found in the list.\")\n",
    "\n",
    "city1 = input(\"Enter the first city: \").lower()\n",
    "city2 = input(\"Enter the second city: \").lower()\n",
    "\n",
    "if city1 in india and city2 in india:\n",
    "    print(\"Both cities are in India.\")\n",
    "elif city1 in pakistan and city2 in pakistan:\n",
    "    print(\"Both cities are in Pakistan.\")\n",
    "elif city1 in bangladesh and city2 in bangladesh:\n",
    "    print(\"Both cities are in Bangladesh.\")\n",
    "else:\n",
    "    print(\"They don't belong to same country.\")\n"
   ]
  },
  {
   "cell_type": "code",
   "execution_count": null,
   "id": "8db28d05-2885-439c-940e-cd7deb899871",
   "metadata": {},
   "outputs": [],
   "source": [
    "sugar_level = int(input(\"Enter your fasting sugar level: \"))\n",
    "\n",
    "if sugar_level < 80:\n",
    "    print(\"Your sugar level is low.\")\n",
    "elif sugar_level > 100:\n",
    "    print(\"Your sugar level is high.\")\n",
    "else:\n",
    "    print(\"Your sugar level is normal.\")\n"
   ]
  }
 ],
 "metadata": {
  "kernelspec": {
   "display_name": "Python 3 (ipykernel)",
   "language": "python",
   "name": "python3"
  },
  "language_info": {
   "codemirror_mode": {
    "name": "ipython",
    "version": 3
   },
   "file_extension": ".py",
   "mimetype": "text/x-python",
   "name": "python",
   "nbconvert_exporter": "python",
   "pygments_lexer": "ipython3",
   "version": "3.11.7"
  }
 },
 "nbformat": 4,
 "nbformat_minor": 5
}
