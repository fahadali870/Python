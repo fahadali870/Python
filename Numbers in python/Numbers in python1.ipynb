{
 "cells": [
  {
   "cell_type": "code",
   "execution_count": null,
   "id": "d36af5ff-114b-4ccf-b226-f538105bdd30",
   "metadata": {},
   "outputs": [],
   "source": [
    "length = 92  \n",
    "width = 48.8\n",
    "\n",
    "area = length * width\n",
    "print(f\"Total area of the football field is: {area} square meters\")\n"
   ]
  },
  {
   "cell_type": "code",
   "execution_count": null,
   "id": "e2af7e99-880a-40ee-bcce-1504deae89ad",
   "metadata": {},
   "outputs": [],
   "source": [
    "cost_per_packet = 1.49 \n",
    "\n",
    "total_cost = 9 * cost_per_packet\n",
    "\n",
    "money_given = 20\n",
    "\n",
    "change = money_given - total_cost\n",
    "print(f\"Shopkeeper will give you back: {change:.2f} dollars\")\n"
   ]
  },
  {
   "cell_type": "code",
   "execution_count": null,
   "id": "84a84798-149e-4239-bc35-d1488a0e65aa",
   "metadata": {},
   "outputs": [],
   "source": [
    "length_of_square = 5.5  \n",
    "\n",
    "cost_per_square_feet = 500  \n",
    "\n",
    "area_of_bathroom = length_of_square ** 2\n",
    "\n",
    "total_cost = area_of_bathroom * cost_per_square_feet\n",
    "print(f\"Total cost to replace the tiles: {total_cost} rs\")\n"
   ]
  },
  {
   "cell_type": "code",
   "execution_count": null,
   "id": "d68c97d5-0354-4eb1-a02c-7af7ae0e4248",
   "metadata": {},
   "outputs": [],
   "source": [
    "number = 17\n",
    "\n",
    "\n",
    "binary_representation = bin(number)\n",
    "print(f\"Binary representation of {number} is: {binary_representation}\")\n"
   ]
  }
 ],
 "metadata": {
  "kernelspec": {
   "display_name": "Python 3 (ipykernel)",
   "language": "python",
   "name": "python3"
  },
  "language_info": {
   "codemirror_mode": {
    "name": "ipython",
    "version": 3
   },
   "file_extension": ".py",
   "mimetype": "text/x-python",
   "name": "python",
   "nbconvert_exporter": "python",
   "pygments_lexer": "ipython3",
   "version": "3.11.7"
  }
 },
 "nbformat": 4,
 "nbformat_minor": 5
}
