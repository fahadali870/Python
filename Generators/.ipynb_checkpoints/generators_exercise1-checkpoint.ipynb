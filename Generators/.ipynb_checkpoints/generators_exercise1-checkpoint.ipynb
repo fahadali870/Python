{
 "cells": [
  {
   "cell_type": "code",
   "execution_count": null,
   "id": "c9165f06-87dd-435e-a665-8c424de428ad",
   "metadata": {},
   "outputs": [],
   "source": [
    "def square_generator():\n",
    "    num = 1  \n",
    "    while True:  \n",
    "        yield num * num  \n",
    "        num += 1  \n",
    "\n",
    "sq_gen = square_generator()\n",
    "\n",
    "for _ in range(10):  \n",
    "    print(next(sq_gen))\n"
   ]
  }
 ],
 "metadata": {
  "kernelspec": {
   "display_name": "Python 3 (ipykernel)",
   "language": "python",
   "name": "python3"
  },
  "language_info": {
   "codemirror_mode": {
    "name": "ipython",
    "version": 3
   },
   "file_extension": ".py",
   "mimetype": "text/x-python",
   "name": "python",
   "nbconvert_exporter": "python",
   "pygments_lexer": "ipython3",
   "version": "3.11.7"
  }
 },
 "nbformat": 4,
 "nbformat_minor": 5
}
