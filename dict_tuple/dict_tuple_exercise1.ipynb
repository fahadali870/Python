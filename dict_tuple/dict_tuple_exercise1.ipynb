{
 "cells": [
  {
   "cell_type": "code",
   "execution_count": null,
   "id": "a28d6ab9-387b-4653-a5d4-89b2e332357a",
   "metadata": {},
   "outputs": [],
   "source": [
    "countries = {\n",
    "    \"china\": 143,\n",
    "    \"india\": 136,\n",
    "    \"usa\": 32,\n",
    "    \"pakistan\": 21\n",
    "}\n",
    "\n",
    "while True:\n",
    "    command = input(\"\\nEnter command (print/add/remove/query/exit): \").strip().lower()\n",
    "\n",
    "    if command == \"print\":\n",
    "        print(\"\\nCurrent Data:\")\n",
    "        for country, population in countries.items():\n",
    "            print(f\"{country} ==> {population}\")\n",
    "\n",
    "    elif command == \"add\":\n",
    "        new_country = input(\"Enter country name: \").strip().lower()\n",
    "\n",
    "        if new_country in countries:\n",
    "            print(\"This country already exists!\")\n",
    "        else:\n",
    "            try:\n",
    "                new_population = int(input(\"Enter population (in crores): \"))\n",
    "                countries[new_country] = new_population\n",
    "                print(\"\\nCountry added successfully!\")\n",
    "            except ValueError:\n",
    "                print(\"Invalid population value!\")\n",
    "\n",
    "    elif command == \"remove\":\n",
    "        remove_country = input(\"Enter country name to remove: \").strip().lower()\n",
    "\n",
    "        if remove_country in countries:\n",
    "            del countries[remove_country]\n",
    "            print(\"\\nCountry removed successfully!\")\n",
    "        else:\n",
    "            print(\"This country doesn't exist!\")\n",
    "\n",
    "    elif command == \"query\":\n",
    "        query_country = input(\"Enter country name: \").strip().lower()\n",
    "\n",
    "        if query_country in countries:\n",
    "            print(f\"Population of {query_country} is {countries[query_country]} crores\")\n",
    "        else:\n",
    "            print(\"This country is not in the dataset!\")\n",
    "\n",
    "    elif command == \"exit\":\n",
    "        print(\"\\nExiting program... Have a great day!\")\n",
    "        break\n",
    "\n",
    "    else:\n",
    "        print(\"Invalid command! Please enter print, add, remove, query, or exit.\")"
   ]
  }
 ],
 "metadata": {
  "kernelspec": {
   "display_name": "Python 3 (ipykernel)",
   "language": "python",
   "name": "python3"
  },
  "language_info": {
   "codemirror_mode": {
    "name": "ipython",
    "version": 3
   },
   "file_extension": ".py",
   "mimetype": "text/x-python",
   "name": "python",
   "nbconvert_exporter": "python",
   "pygments_lexer": "ipython3",
   "version": "3.11.7"
  }
 },
 "nbformat": 4,
 "nbformat_minor": 5
}
