{
 "cells": [
  {
   "cell_type": "code",
   "execution_count": null,
   "id": "bb664548-17d9-4aeb-924e-2a64e266b574",
   "metadata": {},
   "outputs": [],
   "source": [
    "stocks = {\n",
    "    \"info\": [600, 630, 620],\n",
    "    \"ril\": [1430, 1490, 1567],\n",
    "    \"mtl\": [234, 180, 160]\n",
    "}\n",
    "\n",
    "while True:\n",
    "        command = input(\"\\nEnter operation (print/add/exit): \").strip().lower()\n",
    "\n",
    "    if command == \"print\":\n",
    "                print(\"\\nStock Data:\")\n",
    "        for stock, prices in stocks.items():\n",
    "            avg_price = sum(prices) / len(prices)  # Average calculate karna\n",
    "            print(f\"{stock} ==> {prices} ==> avg: {round(avg_price, 2)}\")\n",
    "\n",
    "    elif command == \"add\":\n",
    "        stock_name = input(\"Enter stock ticker: \").strip().lower()\n",
    "\n",
    "        try:\n",
    "            price = int(input(\"Enter price: \"))\n",
    "\n",
    "            if stock_name in stocks:\n",
    "                stocks[stock_name].append(price)  # Existing stock ke list me price add karna\n",
    "            else:\n",
    "                stocks[stock_name] = [price]  # Naya stock add karna\n",
    "            \n",
    "            print(\"\\nStock updated successfully!\")\n",
    "\n",
    "        except ValueError:\n",
    "            print(\"Invalid price! Please enter a number.\")\n",
    "\n",
    "    elif command == \"exit\":\n",
    "        print(\"\\nExiting program... Have a great day!\")\n",
    "        break\n",
    "\n",
    "    else:\n",
    "        print(\"Invalid command! Please enter print, add, or exit.\")"
   ]
  }
 ],
 "metadata": {
  "kernelspec": {
   "display_name": "Python 3 (ipykernel)",
   "language": "python",
   "name": "python3"
  },
  "language_info": {
   "codemirror_mode": {
    "name": "ipython",
    "version": 3
   },
   "file_extension": ".py",
   "mimetype": "text/x-python",
   "name": "python",
   "nbconvert_exporter": "python",
   "pygments_lexer": "ipython3",
   "version": "3.11.7"
  }
 },
 "nbformat": 4,
 "nbformat_minor": 5
}
