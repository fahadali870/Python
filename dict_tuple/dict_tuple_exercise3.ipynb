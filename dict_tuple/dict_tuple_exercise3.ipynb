{
 "cells": [
  {
   "cell_type": "code",
   "execution_count": null,
   "id": "ac756f24-0496-44a2-8daf-63ba4f3cace9",
   "metadata": {},
   "outputs": [],
   "source": [
    "import math  \n",
    "def circle_calc(radius):\n",
    "    \"\"\"Circle ke area, circumference aur diameter calculate karne wali function\"\"\"\n",
    "    area = math.pi * radius ** 2\n",
    "    circumference = 2 * math.pi * radius\n",
    "    diameter = 2 * radius\n",
    "    return area, circumference, diameter\n",
    "\n",
    "try:\n",
    "    r = float(input(\"Enter radius of the circle: \"))  \n",
    "    if r <= 0:\n",
    "        print(\"Radius must be a positive number!\")\n",
    "    else:\n",
    "        area, circ, dia = circle_calc(r)  \n",
    "        print(f\"\\nArea: {round(area, 2)}\")\n",
    "        print(f\"Circumference: {round(circ, 2)}\")\n",
    "        print(f\"Diameter: {round(dia, 2)}\")\n",
    "except ValueError:\n",
    "    print(\"Invalid input! Please enter a numeric value.\")\n"
   ]
  }
 ],
 "metadata": {
  "kernelspec": {
   "display_name": "Python 3 (ipykernel)",
   "language": "python",
   "name": "python3"
  },
  "language_info": {
   "codemirror_mode": {
    "name": "ipython",
    "version": 3
   },
   "file_extension": ".py",
   "mimetype": "text/x-python",
   "name": "python",
   "nbconvert_exporter": "python",
   "pygments_lexer": "ipython3",
   "version": "3.11.7"
  }
 },
 "nbformat": 4,
 "nbformat_minor": 5
}
