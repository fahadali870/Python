{
 "cells": [
  {
   "cell_type": "code",
   "execution_count": null,
   "id": "42c88e27-da18-4a92-8ed6-5e261466fc64",
   "metadata": {},
   "outputs": [],
   "source": [
    "result = [\"heads\",\"tails\",\"tails\",\"heads\",\"tails\",\"heads\",\"heads\",\"tails\",\"tails\",\"tails\"]\n",
    "\n",
    "count_heads = 0\n",
    "for flip in result:\n",
    "    if flip == \"heads\":\n",
    "        count_heads += 1\n",
    "\n",
    "print(f\"Number of heads: {count_heads}\")\n"
   ]
  },
  {
   "cell_type": "code",
   "execution_count": null,
   "id": "9304e9fc-2f9b-4550-8d98-27f4c381fcfc",
   "metadata": {},
   "outputs": [],
   "source": [
    "for num in range(1, 11):\n",
    "    if num % 2 != 0:  \n",
    "        print(num ** 2)\n"
   ]
  },
  {
   "cell_type": "code",
   "execution_count": null,
   "id": "44fd76da-0ae5-4054-b0aa-ed3145eda14f",
   "metadata": {},
   "outputs": [],
   "source": [
    "expense_list = [2340, 2500, 2100, 3100, 2980]\n",
    "expense = int(input(\"Enter an expense amount: \"))\n",
    "\n",
    "months = [\"January\", \"February\", \"March\", \"April\", \"May\"]\n",
    "\n",
    "if expense in expense_list:\n",
    "    month_index = expense_list.index(expense)\n",
    "    print(f\"Your expense of {expense} occurred in {months[month_index]}.\")\n",
    "else:\n",
    "    print(f\"The expense of {expense} was not found in the list.\")\n"
   ]
  },
  {
   "cell_type": "code",
   "execution_count": null,
   "id": "161d3702-1cd1-4202-889c-4f1b4e16ae0b",
   "metadata": {},
   "outputs": [],
   "source": [
    "for km in range(1, 6):\n",
    "    tired = input(f\"After {km} km, are you tired? (yes/no): \").lower()\n",
    "    \n",
    "    if tired == \"yes\":\n",
    "        print(\"You didn't finish the race.\")\n",
    "        break\n",
    "    elif tired == \"no\":\n",
    "        continue\n",
    "\n",
    "else:\n",
    "    print(\"Congratulations! You finished the race.\")\n"
   ]
  },
  {
   "cell_type": "code",
   "execution_count": null,
   "id": "73ab825c-eb7e-4521-8c75-a4900ddbe9ef",
   "metadata": {},
   "outputs": [],
   "source": [
    "for i in range(1, 6):\n",
    "    print('*' * i)\n"
   ]
  }
 ],
 "metadata": {
  "kernelspec": {
   "display_name": "Python 3 (ipykernel)",
   "language": "python",
   "name": "python3"
  },
  "language_info": {
   "codemirror_mode": {
    "name": "ipython",
    "version": 3
   },
   "file_extension": ".py",
   "mimetype": "text/x-python",
   "name": "python",
   "nbconvert_exporter": "python",
   "pygments_lexer": "ipython3",
   "version": "3.11.7"
  }
 },
 "nbformat": 4,
 "nbformat_minor": 5
}
