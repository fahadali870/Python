{
 "cells": [
  {
   "cell_type": "code",
   "execution_count": null,
   "id": "334de495-ddf5-44f9-8402-0541203a52c0",
   "metadata": {},
   "outputs": [],
   "source": [
    "class Teacher:\n",
    "    def __init__(self, subject):\n",
    "        self.subject = subject\n",
    "\n",
    "    def teach(self):\n",
    "        print(\"Teaching\", self.subject)\n",
    "\n",
    "class Student:\n",
    "    def __init__(self, degree):\n",
    "        self.degree = degree\n",
    "\n",
    "    def study(self):\n",
    "        print(\"Studying\", self.degree)\n",
    "\n",
    "class YouTuber:\n",
    "    def __init__(self, channel_name):\n",
    "        self.channel_name = channel_name\n",
    "\n",
    "    def make_video(self):\n",
    "        print(\"Making videos on\", self.channel_name)\n",
    "\n",
    "class StudentTeacher(Teacher, Student):\n",
    "    def __init__(self, subject, degree):\n",
    "        Teacher.__init__(self, subject)\n",
    "        Student.__init__(self, degree)\n",
    "\n",
    "person = StudentTeacher(\"Mathematics\", \"Master's Degree\")\n",
    "person.teach()  \n",
    "person.study() "
   ]
  },
  {
   "cell_type": "code",
   "execution_count": null,
   "id": "d22ae584-9e1a-4011-8c7f-dc8bfdf7791d",
   "metadata": {},
   "outputs": [],
   "source": [
    "class Teacher:\n",
    "    def __init__(self, subject):\n",
    "        self.subject = subject\n",
    "\n",
    "    def teach(self):\n",
    "        print(\"Teaching\", self.subject)\n",
    "\n",
    "class Student:\n",
    "    def __init__(self, degree):\n",
    "        self.degree = degree\n",
    "\n",
    "    def study(self):\n",
    "        print(\"Studying\", self.degree)\n",
    "\n",
    "class YouTuber:\n",
    "    def __init__(self, channel_name):\n",
    "        self.channel_name = channel_name\n",
    "\n",
    "    def make_video(self):\n",
    "        print(\"Making videos on\", self.channel_name)\n",
    "\n",
    "class StudentTeacherYouTuber(Teacher, Student, YouTuber):\n",
    "    def __init__(self, subject, degree, channel_name):\n",
    "        Teacher.__init__(self, subject)\n",
    "        Student.__init__(self, degree)\n",
    "        YouTuber.__init__(self, channel_name)\n",
    "\n",
    "person = StudentTeacherYouTuber(\"Mathematics\", \"Master's Degree\", \"Code with Fahad\")\n",
    "person.teach()       \n",
    "person.study()       \n",
    "person.make_video()  \n"
   ]
  }
 ],
 "metadata": {
  "kernelspec": {
   "display_name": "Python 3 (ipykernel)",
   "language": "python",
   "name": "python3"
  },
  "language_info": {
   "codemirror_mode": {
    "name": "ipython",
    "version": 3
   },
   "file_extension": ".py",
   "mimetype": "text/x-python",
   "name": "python",
   "nbconvert_exporter": "python",
   "pygments_lexer": "ipython3",
   "version": "3.11.7"
  }
 },
 "nbformat": 4,
 "nbformat_minor": 5
}
