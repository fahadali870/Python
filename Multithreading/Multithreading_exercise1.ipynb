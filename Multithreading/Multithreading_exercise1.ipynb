{
 "cells": [
  {
   "cell_type": "code",
   "execution_count": null,
   "id": "53d4dc39-a98f-4450-a7d0-a5f422bccc78",
   "metadata": {},
   "outputs": [],
   "source": [
    "import threading\n",
    "import time\n",
    "\n",
    "def func_name(i):\n",
    "    print(f\"Thread {i} is running\")\n",
    "    time.sleep(2)  \n",
    "    print(f\"Thread {i} has finished\")\n",
    "\n",
    "threads = []\n",
    "for i in range(10):\n",
    "    th = threading.Thread(target=func_name, args=(i,))\n",
    "    threads.append(th)\n",
    "    th.start()  \n",
    "\n",
    "print(f\"Total active threads: {threading.active_count()}\")\n",
    "\n",
    "for th in threads:\n",
    "    th.join()\n",
    "\n",
    "print(f\"Final active threads: {threading.active_count()}\")\n"
   ]
  }
 ],
 "metadata": {
  "kernelspec": {
   "display_name": "Python 3 (ipykernel)",
   "language": "python",
   "name": "python3"
  },
  "language_info": {
   "codemirror_mode": {
    "name": "ipython",
    "version": 3
   },
   "file_extension": ".py",
   "mimetype": "text/x-python",
   "name": "python",
   "nbconvert_exporter": "python",
   "pygments_lexer": "ipython3",
   "version": "3.11.7"
  }
 },
 "nbformat": 4,
 "nbformat_minor": 5
}
