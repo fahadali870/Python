{
 "cells": [
  {
   "cell_type": "raw",
   "id": "059c5a54-bfc6-4f96-8320-8ad237e81a57",
   "metadata": {},
   "source": [
    "Write a function called calculate_area that takes base and height as an input and returns and area of a triangle. Equation of an area of a triangle is"
   ]
  },
  {
   "cell_type": "code",
   "execution_count": null,
   "id": "eacd7158-b280-4386-bff8-a352ea7bdfed",
   "metadata": {},
   "outputs": [],
   "source": [
    "def calculate_area(base,height):\n",
    "    area = (1/2)*base*height\n",
    "    return area"
   ]
  },
  {
   "cell_type": "raw",
   "id": "554e7038-6634-4c2a-a71c-d9d42dfe8d62",
   "metadata": {},
   "source": [
    "Modify above function to take third parameter shape type. It can be either \"triangle\" or \"rectangle\". Based on shape type it will calculate area. Equation of rectangle's area is"
   ]
  },
  {
   "cell_type": "code",
   "execution_count": null,
   "id": "d9312600-b5f9-4754-a9dc-4af1b1537bc5",
   "metadata": {},
   "outputs": [],
   "source": [
    "def calculate_area(shape_type):\n",
    "    if shape_type=='triangle':\n",
    "        base = input('Enter base: ')\n",
    "        height = input('Enter height: ')\n",
    "        area = (1/2)*base*height\n",
    "        print(f'The area of triangle is {area}')\n",
    "    elif shape_type=='rectangle':\n",
    "        length = input('Enter length: ')\n",
    "        width = input('Enter width: ')\n",
    "        area = length*width\n",
    "        print('The area of reactangle is: ')\n",
    "    else:\n",
    "        print('Wrong input')"
   ]
  },
  {
   "cell_type": "raw",
   "id": "3a4a3ca6-6615-44c3-93d6-5cb19244334b",
   "metadata": {},
   "source": [
    "Pattern print"
   ]
  },
  {
   "cell_type": "code",
   "execution_count": 10,
   "id": "f898c20d-9922-4088-befb-93666b7120ed",
   "metadata": {},
   "outputs": [
    {
     "name": "stdout",
     "output_type": "stream",
     "text": [
      "1\n",
      "1 2\n",
      "1 2 3\n"
     ]
    }
   ],
   "source": [
    "def print_pattern(n):\n",
    "    for i in range(1, n + 1):\n",
    "        line = \"\"\n",
    "        for j in range(1, i + 1): \n",
    "            line += str(j) + \" \"  \n",
    "        print(line.strip())  \n",
    "print_pattern(3)"
   ]
  },
  {
   "cell_type": "code",
   "execution_count": null,
   "id": "7b0ded47-943e-43e2-b3b7-64e8fe8a2c25",
   "metadata": {},
   "outputs": [],
   "source": []
  },
  {
   "cell_type": "code",
   "execution_count": null,
   "id": "4bf56941-1302-48eb-a1b3-1c3a82009981",
   "metadata": {},
   "outputs": [],
   "source": []
  },
  {
   "cell_type": "code",
   "execution_count": null,
   "id": "25d40a09-2c17-4b07-8328-0b95d7f6cdca",
   "metadata": {},
   "outputs": [],
   "source": []
  },
  {
   "cell_type": "code",
   "execution_count": null,
   "id": "e027e4af-afb4-4727-a5db-8bb4295a9af7",
   "metadata": {},
   "outputs": [],
   "source": []
  },
  {
   "cell_type": "code",
   "execution_count": null,
   "id": "dc541b26-7786-4083-b6db-2cb3236f72b6",
   "metadata": {},
   "outputs": [],
   "source": []
  }
 ],
 "metadata": {
  "kernelspec": {
   "display_name": "Python 3 (ipykernel)",
   "language": "python",
   "name": "python3"
  },
  "language_info": {
   "codemirror_mode": {
    "name": "ipython",
    "version": 3
   },
   "file_extension": ".py",
   "mimetype": "text/x-python",
   "name": "python",
   "nbconvert_exporter": "python",
   "pygments_lexer": "ipython3",
   "version": "3.11.7"
  }
 },
 "nbformat": 4,
 "nbformat_minor": 5
}
