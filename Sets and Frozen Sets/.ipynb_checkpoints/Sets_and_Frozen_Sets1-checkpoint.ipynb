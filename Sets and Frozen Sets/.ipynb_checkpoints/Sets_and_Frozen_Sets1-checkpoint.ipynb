{
 "cells": [
  {
   "cell_type": "code",
   "execution_count": null,
   "id": "4883125d-8b48-419b-b0fe-4b8b2a4513a6",
   "metadata": {},
   "outputs": [],
   "source": [
    "my_set = {1, 2, 3, 4, 5}\n",
    "\n",
    "frozen_set = frozenset(my_set)\n",
    "\n",
    "print(\"Normal Set:\", my_set)\n",
    "print(\"Frozen Set:\", frozen_set)\n"
   ]
  },
  {
   "cell_type": "code",
   "execution_count": null,
   "id": "db3079c3-fae6-486f-a2fe-8afafd4f71c9",
   "metadata": {},
   "outputs": [],
   "source": [
    "set1 = {1, 2, 3, 4, 5}\n",
    "set2 = {4, 5, 6, 7, 8}\n",
    "\n",
    "difference = set1 - set2  \n",
    "\n",
    "print(difference)\n"
   ]
  }
 ],
 "metadata": {
  "kernelspec": {
   "display_name": "Python 3 (ipykernel)",
   "language": "python",
   "name": "python3"
  },
  "language_info": {
   "codemirror_mode": {
    "name": "ipython",
    "version": 3
   },
   "file_extension": ".py",
   "mimetype": "text/x-python",
   "name": "python",
   "nbconvert_exporter": "python",
   "pygments_lexer": "ipython3",
   "version": "3.11.7"
  }
 },
 "nbformat": 4,
 "nbformat_minor": 5
}
