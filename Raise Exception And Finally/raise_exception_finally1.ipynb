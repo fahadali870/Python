{
 "cells": [
  {
   "cell_type": "code",
   "execution_count": null,
   "id": "62118721-3cc5-470f-bd25-c81f9a8d884e",
   "metadata": {},
   "outputs": [],
   "source": [
    "class AdultException(Exception):\n",
    "    pass\n",
    "\n",
    "class Person:\n",
    "    def __init__(self, name, age):\n",
    "        self.name = name\n",
    "        self.age = age\n",
    "\n",
    "    def get_minor_age(self):\n",
    "        if self.age > 18:\n",
    "            raise AdultException(f\"{self.name} is an adult.\") \n",
    "        return self.age \n",
    "        \n",
    "    def display_person(self):\n",
    "        print(f\"Name: {self.name}, Age: {self.age}\")\n",
    "\n",
    "try:\n",
    "    person1 = Person(\"Ali\", 20)\n",
    "    age = person1.get_minor_age()  \n",
    "    print(f\"{person1.name} is {age} years old.\")\n",
    "except AdultException as e:\n",
    "    print(\"Exception:\", e)\n",
    "\n",
    "try:\n",
    "    person2 = Person(\"Ahmed\", 16)\n",
    "    age = person2.get_minor_age() \n",
    "    print(f\"{person2.name} is {age} years old.\")\n",
    "except AdultException as e:\n",
    "    print(\"Exception:\", e)\n"
   ]
  }
 ],
 "metadata": {
  "kernelspec": {
   "display_name": "Python 3 (ipykernel)",
   "language": "python",
   "name": "python3"
  },
  "language_info": {
   "codemirror_mode": {
    "name": "ipython",
    "version": 3
   },
   "file_extension": ".py",
   "mimetype": "text/x-python",
   "name": "python",
   "nbconvert_exporter": "python",
   "pygments_lexer": "ipython3",
   "version": "3.11.7"
  }
 },
 "nbformat": 4,
 "nbformat_minor": 5
}
