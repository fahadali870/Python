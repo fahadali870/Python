{
 "cells": [
  {
   "cell_type": "code",
   "execution_count": null,
   "id": "2853b16e-cfae-4c11-9132-bf64e65afd65",
   "metadata": {},
   "outputs": [],
   "source": [
    "import csv\n",
    "\n",
    "input_file = \"stocks.csv\"\n",
    "output_file = \"output.csv\"\n",
    "\n",
    "with open(input_file, mode='r') as file:\n",
    "    csv_reader = csv.DictReader(file)\n",
    "    \n",
    "    new_rows = []\n",
    "    \n",
    "    for row in csv_reader:\n",
    "        company_name = row[\"Company Name\"]\n",
    "        price = float(row[\"Price\"])\n",
    "        earnings_per_share = float(row[\"Earnings Per Share\"])\n",
    "        book_value = float(row[\"Book Value\"])\n",
    "        \n",
    "\n",
    "        pe_ratio = round(price / earnings_per_share, 2)\n",
    "        pb_ratio = round(price / book_value, 2)\n",
    "        \n",
    "\n",
    "        new_row = {\n",
    "            \"Company Name\": company_name,\n",
    "            \"PE Ratio\": pe_ratio,\n",
    "            \"PB Ratio\": pb_ratio\n",
    "        }\n",
    "        \n",
    "\n",
    "        new_rows.append(new_row)\n",
    "\n",
    "with open(output_file, mode='w', newline='') as file:\n",
    "    fieldnames = [\"Company Name\", \"PE Ratio\", \"PB Ratio\"]\n",
    "    csv_writer = csv.DictWriter(file, fieldnames=fieldnames)\n",
    "    \n",
    "    csv_writer.writeheader()\n",
    "    for row in new_rows:\n",
    "        csv_writer.writerow(row)\n",
    "\n",
    "print(\"Financial metrics file 'output.csv' successfully created.\")"
   ]
  }
 ],
 "metadata": {
  "kernelspec": {
   "display_name": "Python 3 (ipykernel)",
   "language": "python",
   "name": "python3"
  },
  "language_info": {
   "codemirror_mode": {
    "name": "ipython",
    "version": 3
   },
   "file_extension": ".py",
   "mimetype": "text/x-python",
   "name": "python",
   "nbconvert_exporter": "python",
   "pygments_lexer": "ipython3",
   "version": "3.11.7"
  }
 },
 "nbformat": 4,
 "nbformat_minor": 5
}
