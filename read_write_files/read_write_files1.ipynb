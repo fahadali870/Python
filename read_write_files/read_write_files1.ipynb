{
 "cells": [
  {
   "cell_type": "code",
   "execution_count": 1,
   "id": "cbef2f6e-ae58-4bc9-8482-7f3b245f73e2",
   "metadata": {},
   "outputs": [
    {
     "name": "stdout",
     "output_type": "stream",
     "text": [
      "Most common word: and\n",
      "Occurrences: 9\n"
     ]
    }
   ],
   "source": [
    "file = open(\"poem.txt\", \"r\")\n",
    "text = file.read()\n",
    "file.close()\n",
    "\n",
    "words = text.lower().split()\n",
    "word_count = {}\n",
    "\n",
    "for word in words:\n",
    "    word = word.strip('.,!?;\"()')  \n",
    "    if word in word_count:\n",
    "        word_count[word] += 1\n",
    "    else:\n",
    "        word_count[word] = 1\n",
    "\n",
    "max_word = max(word_count, key=word_count.get)\n",
    "max_count = word_count[max_word]\n",
    "\n",
    "print(\"Most common word:\", max_word)\n",
    "print(\"Occurrences:\", max_count)\n"
   ]
  }
 ],
 "metadata": {
  "kernelspec": {
   "display_name": "Python 3 (ipykernel)",
   "language": "python",
   "name": "python3"
  },
  "language_info": {
   "codemirror_mode": {
    "name": "ipython",
    "version": 3
   },
   "file_extension": ".py",
   "mimetype": "text/x-python",
   "name": "python",
   "nbconvert_exporter": "python",
   "pygments_lexer": "ipython3",
   "version": "3.11.7"
  }
 },
 "nbformat": 4,
 "nbformat_minor": 5
}
