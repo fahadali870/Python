{
 "cells": [
  {
   "cell_type": "code",
   "execution_count": null,
   "id": "a37a942a-4390-47d5-a591-d3e3f9fca10a",
   "metadata": {},
   "outputs": [],
   "source": [
    "integer = [0, 1, 2, 3, 4]\n",
    "binary = [\"0\", \"1\", \"10\", \"11\", \"100\"]\n",
    "\n",
    "binary_dict = {}\n",
    "\n",
    "for i in range(len(integer)):\n",
    "    binary_dict[integer[i]] = binary[i]\n",
    "\n",
    "print(binary_dict)\n"
   ]
  },
  {
   "cell_type": "code",
   "execution_count": null,
   "id": "ca14cf19-98fc-4b2e-ad83-63e74d3bb635",
   "metadata": {},
   "outputs": [],
   "source": [
    "integer = [1, -1, 2, 3, 5, 0, -7]\n",
    "\n",
    "additive_inverse = []\n",
    "\n",
    "for num in integer:\n",
    "    additive_inverse.append(-num)\n",
    "\n",
    "print(additive_inverse)\n"
   ]
  },
  {
   "cell_type": "code",
   "execution_count": null,
   "id": "ee42f2f9-fbb9-4b82-9996-4a2fc2fa366e",
   "metadata": {},
   "outputs": [],
   "source": [
    "integer = [1, -1, 2, -2, 3, -3]\n",
    "\n",
    "sq_set = set()\n",
    "\n",
    "for num in integer:\n",
    "    sq_set.add(num * num)\n",
    "\n",
    "print(sq_set)\n"
   ]
  }
 ],
 "metadata": {
  "kernelspec": {
   "display_name": "Python 3 (ipykernel)",
   "language": "python",
   "name": "python3"
  },
  "language_info": {
   "codemirror_mode": {
    "name": "ipython",
    "version": 3
   },
   "file_extension": ".py",
   "mimetype": "text/x-python",
   "name": "python",
   "nbconvert_exporter": "python",
   "pygments_lexer": "ipython3",
   "version": "3.11.7"
  }
 },
 "nbformat": 4,
 "nbformat_minor": 5
}
