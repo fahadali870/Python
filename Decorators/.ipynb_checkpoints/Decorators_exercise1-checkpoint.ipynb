{
 "cells": [
  {
   "cell_type": "code",
   "execution_count": null,
   "id": "96b052e2-b2d9-4a2a-aa15-dac7eb97ba30",
   "metadata": {},
   "outputs": [],
   "source": [
    "def check_non_negative_integer(func):\n",
    "    def wrapper(n):\n",
    "        if isinstance(n, int) and n >= 0:  \n",
    "            return func(n)\n",
    "        else:\n",
    "            raise ValueError(\"Input must be a non-negative integer\")\n",
    "    return wrapper\n",
    "\n",
    "@check_non_negative_integer  \n",
    "def factorial(n):\n",
    "    if n == 0 or n == 1:\n",
    "        return 1\n",
    "    else:\n",
    "        result = 1\n",
    "        for i in range(2, n+1):\n",
    "            result *= i\n",
    "        return result\n",
    "\n",
    "try:\n",
    "    print(factorial(5))  \n",
    "    print(factorial(-5))  \n",
    "except ValueError as e:\n",
    "    print(e)\n"
   ]
  },
  {
   "cell_type": "code",
   "execution_count": null,
   "id": "4e4776e2-831c-4fd1-824b-4a81c5156632",
   "metadata": {},
   "outputs": [],
   "source": []
  }
 ],
 "metadata": {
  "kernelspec": {
   "display_name": "Python 3 (ipykernel)",
   "language": "python",
   "name": "python3"
  },
  "language_info": {
   "codemirror_mode": {
    "name": "ipython",
    "version": 3
   },
   "file_extension": ".py",
   "mimetype": "text/x-python",
   "name": "python",
   "nbconvert_exporter": "python",
   "pygments_lexer": "ipython3",
   "version": "3.11.7"
  }
 },
 "nbformat": 4,
 "nbformat_minor": 5
}
