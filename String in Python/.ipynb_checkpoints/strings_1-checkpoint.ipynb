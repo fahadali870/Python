{
 "cells": [
  {
   "cell_type": "code",
   "execution_count": null,
   "id": "ad00ef5b-cc7d-4210-88a5-0d0e8df111ee",
   "metadata": {},
   "outputs": [],
   "source": [
    "street = \"Baker Street\"\n",
    "city = \"London\"\n",
    "country = \"United Kingdom\"\n",
    "\n",
    "address_1 = street + \"\\n\" + city + \"\\n\" + country\n",
    "print(\"Address using + operator:\\n\", address_1)\n",
    "\n",
    "address_2 = f\"{street}\\n{city}\\n{country}\"\n",
    "print(\"\\nAddress using f-string:\\n\", address_2)\n"
   ]
  },
  {
   "cell_type": "code",
   "execution_count": null,
   "id": "868cef95-2f18-4fc3-b7e6-80f46d479ae7",
   "metadata": {},
   "outputs": [],
   "source": [
    "s = \"Earth revolves around the sun\"\n",
    "\n",
    "revolves = s[6:14]\n",
    "print(f\"Revolves: {revolves}\")\n",
    "\n",
    "sun = s[-3:]\n",
    "print(f\"Sun: {sun}\")\n"
   ]
  },
  {
   "cell_type": "code",
   "execution_count": null,
   "id": "e8575a4d-4247-46d6-93f7-bd082be15124",
   "metadata": {},
   "outputs": [],
   "source": [
    "fruits = 5\n",
    "vegetables = 3\n",
    "\n",
    "print(f\"I eat {vegetables} veggies and {fruits} fruits daily\")\n"
   ]
  },
  {
   "cell_type": "code",
   "execution_count": null,
   "id": "a524431a-0132-4839-b12f-12ac9d86d127",
   "metadata": {},
   "outputs": [],
   "source": [
    "s = 'maine 200 banana khaye'\n",
    "\n",
    "new_s = s.replace('200 banana', '10 samosa')\n",
    "print(f\"Corrected statement: {new_s}\")\n",
    "\n",
    "print(s.replace('200 banana', '10 samosa'))\n"
   ]
  }
 ],
 "metadata": {
  "kernelspec": {
   "display_name": "Python 3 (ipykernel)",
   "language": "python",
   "name": "python3"
  },
  "language_info": {
   "codemirror_mode": {
    "name": "ipython",
    "version": 3
   },
   "file_extension": ".py",
   "mimetype": "text/x-python",
   "name": "python",
   "nbconvert_exporter": "python",
   "pygments_lexer": "ipython3",
   "version": "3.11.7"
  }
 },
 "nbformat": 4,
 "nbformat_minor": 5
}
