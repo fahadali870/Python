{
 "cells": [
  {
   "cell_type": "code",
   "execution_count": null,
   "id": "abaa376d-5924-44ee-8cde-fcf37dd9696e",
   "metadata": {},
   "outputs": [],
   "source": [
    "class Animal:\n",
    "    def __init__(self, habitat):\n",
    "        self.habitat = habitat\n",
    "\n",
    "    def show_habitat(self):\n",
    "        print(\"This animal lives in\", self.habitat)\n",
    "\n",
    "class Dog(Animal):\n",
    "    def __init__(self, habitat, breed):\n",
    "        Animal.__init__(self, habitat) \n",
    "        self.breed = breed\n",
    "\n",
    "dog1 = Dog(\"House\", \"Labrador\")\n",
    "\n",
    "dog1.show_habitat()\n"
   ]
  },
  {
   "cell_type": "code",
   "execution_count": null,
   "id": "d8044579-2a48-4c71-8a5f-4a3dd85eea29",
   "metadata": {},
   "outputs": [],
   "source": [
    "class Animal:\n",
    "    def __init__(self, habitat):\n",
    "        self.habitat = habitat\n",
    "\n",
    "    def show_habitat(self):\n",
    "        print(\"This animal lives in\", self.habitat)\n",
    "\n",
    "class Dog(Animal):\n",
    "    def __init__(self, habitat, breed):\n",
    "        super().__init__(habitat) \n",
    "        self.breed = breed\n",
    "\n",
    "dog1 = Dog(\"House\", \"Labrador\")\n",
    "\n",
    "dog1.show_habitat()\n"
   ]
  }
 ],
 "metadata": {
  "kernelspec": {
   "display_name": "Python 3 (ipykernel)",
   "language": "python",
   "name": "python3"
  },
  "language_info": {
   "codemirror_mode": {
    "name": "ipython",
    "version": 3
   },
   "file_extension": ".py",
   "mimetype": "text/x-python",
   "name": "python",
   "nbconvert_exporter": "python",
   "pygments_lexer": "ipython3",
   "version": "3.11.7"
  }
 },
 "nbformat": 4,
 "nbformat_minor": 5
}
