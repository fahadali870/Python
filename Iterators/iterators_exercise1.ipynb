{
 "cells": [
  {
   "cell_type": "code",
   "execution_count": null,
   "id": "03526f1b-405b-4e9f-ad42-7e5a24319bcf",
   "metadata": {},
   "outputs": [],
   "source": [
    "class FibonacciIterator:\n",
    "    def __init__(self):\n",
    "        self.first = 0\n",
    "        self.second = 1\n",
    "\n",
    "    def __iter__(self):\n",
    "        return self \n",
    "\n",
    "    def __next__(self):\n",
    "        fib_number = self.first \n",
    "        next_number = self.first + self.second  \n",
    "        self.first = self.second  \n",
    "        self.second = next_number  \n",
    "        return fib_number \n",
    "\n",
    "fib = FibonacciIterator()\n",
    "for _ in range(10):  \n",
    "    print(next(fib))"
   ]
  },
  {
   "cell_type": "code",
   "execution_count": null,
   "id": "3a0fb01c-64ed-4294-89cf-c9403727e8de",
   "metadata": {},
   "outputs": [],
   "source": [
    "class FibonacciIterator:\n",
    "    def __init__(self, limit):\n",
    "        self.limit = limit\n",
    "        self.a = 0\n",
    "        self.b = 1\n",
    "\n",
    "    def __iter__(self):\n",
    "        return self\n",
    "\n",
    "    def __next__(self):\n",
    "        if self.a > self.limit:\n",
    "            raise StopIteration\n",
    "        \n",
    "        num = self.a  \n",
    "        next_num = self.a + self.b  \n",
    "        self.a = self.b  \n",
    "        self.b = next_num  \n",
    "        \n",
    "        return num \n",
    "        \n",
    "fib = FibonacciIterator(20)\n",
    "\n",
    "for n in fib:\n",
    "    print(n)\n"
   ]
  }
 ],
 "metadata": {
  "kernelspec": {
   "display_name": "Python 3 (ipykernel)",
   "language": "python",
   "name": "python3"
  },
  "language_info": {
   "codemirror_mode": {
    "name": "ipython",
    "version": 3
   },
   "file_extension": ".py",
   "mimetype": "text/x-python",
   "name": "python",
   "nbconvert_exporter": "python",
   "pygments_lexer": "ipython3",
   "version": "3.11.7"
  }
 },
 "nbformat": 4,
 "nbformat_minor": 5
}
