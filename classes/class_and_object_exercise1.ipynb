{
 "cells": [
  {
   "cell_type": "code",
   "execution_count": null,
   "id": "a9f43a0f-30e1-4555-a13e-00263a829890",
   "metadata": {},
   "outputs": [],
   "source": [
    "class Employee:\n",
    "    def __init__(self, emp_id, name):\n",
    "        self.id = emp_id\n",
    "        self.name = name\n",
    "\n",
    "emp = Employee(1, \"coder\")\n",
    "\n",
    "del emp.id\n",
    "print(\"Employee ID deleted.\")\n",
    "\n",
    "del emp\n",
    "print(\"Employee object deleted.\")\n"
   ]
  }
 ],
 "metadata": {
  "kernelspec": {
   "display_name": "Python 3 (ipykernel)",
   "language": "python",
   "name": "python3"
  },
  "language_info": {
   "codemirror_mode": {
    "name": "ipython",
    "version": 3
   },
   "file_extension": ".py",
   "mimetype": "text/x-python",
   "name": "python",
   "nbconvert_exporter": "python",
   "pygments_lexer": "ipython3",
   "version": "3.11.7"
  }
 },
 "nbformat": 4,
 "nbformat_minor": 5
}
