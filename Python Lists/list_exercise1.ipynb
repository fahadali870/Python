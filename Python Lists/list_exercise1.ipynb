{
 "cells": [
  {
   "cell_type": "code",
   "execution_count": null,
   "id": "881606a7-e79b-4658-8093-762f4d73ab24",
   "metadata": {},
   "outputs": [],
   "source": [
    "expenses = [2200, 2350, 2600, 2130, 2190]\n",
    "\n",
    "extra_in_february = expenses[1] - expenses[0]\n",
    "print(f\"Extra spending in February compared to January: {extra_in_february} dollars\")\n",
    "\n",
    "first_quarter_expense = sum(expenses[:3])\n",
    "print(f\"Total expense in the first quarter: {first_quarter_expense} dollars\")\n",
    "\n",
    "is_2000_spent = 2000 in expenses\n",
    "print(f\"Did I spend exactly 2000 dollars in any month? {is_2000_spent}\")\n",
    "\n",
    "expenses.append(1980)\n",
    "print(f\"Updated expenses list: {expenses}\")\n",
    "\n",
    "expenses[3] -= 200  \n",
    "print(f\"Updated expenses after refund: {expenses}\")\n"
   ]
  },
  {
   "cell_type": "code",
   "execution_count": null,
   "id": "0dd4dccc-b44f-421f-8da9-d4d10b49daea",
   "metadata": {},
   "outputs": [],
   "source": [
    "heros = ['spider man', 'thor', 'hulk', 'iron man', 'captain america']\n",
    "\n",
    "length_of_list = len(heros)\n",
    "print(f\"Length of the list: {length_of_list}\")\n",
    "\n",
    "heros.append('black panther')\n",
    "print(f\"List after adding 'black panther' at the end: {heros}\")\n",
    "\n",
    "heros.remove('black panther')\n",
    "hulk_index = heros.index('hulk')\n",
    "heros.insert(hulk_index + 1, 'black panther')\n",
    "print(f\"List after re-adding 'black panther' after 'hulk': {heros}\")\n",
    "\n",
    "heros = ['doctor strange' if hero in ['thor', 'hulk'] else hero for hero in heros]\n",
    "print(f\"List after replacing 'thor' and 'hulk' with 'doctor strange': {heros}\")\n",
    "\n",
    "heros.sort()\n",
    "print(f\"List after sorting in alphabetical order: {heros}\")\n"
   ]
  }
 ],
 "metadata": {
  "kernelspec": {
   "display_name": "Python 3 (ipykernel)",
   "language": "python",
   "name": "python3"
  },
  "language_info": {
   "codemirror_mode": {
    "name": "ipython",
    "version": 3
   },
   "file_extension": ".py",
   "mimetype": "text/x-python",
   "name": "python",
   "nbconvert_exporter": "python",
   "pygments_lexer": "ipython3",
   "version": "3.11.7"
  }
 },
 "nbformat": 4,
 "nbformat_minor": 5
}
